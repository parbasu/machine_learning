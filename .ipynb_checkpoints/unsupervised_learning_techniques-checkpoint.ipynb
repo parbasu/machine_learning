{
 "cells": [
  {
   "cell_type": "markdown",
   "metadata": {},
   "source": [
    "## Clustering"
   ]
  },
  {
   "cell_type": "markdown",
   "metadata": {},
   "source": [
    "### K-Means"
   ]
  },
  {
   "cell_type": "markdown",
   "metadata": {},
   "source": [
    "Consider the unlabeled dataset represented in below figure: you can clearly see $5$ blobs of instances. The $K$-Means algorithm is a simple algorithm is a simple algorithm capable of clustering this kind of dataset very quickly and efficiently, often in just a few iterations.\n",
    "\n",
    "![](unlabeled_dataset_five_blobs.png)"
   ]
  },
  {
   "cell_type": "markdown",
   "metadata": {},
   "source": [
    "Let's train a K-means clusterer on this dataset. It will try to find each blob's center and assign each instance to the closest blob:"
   ]
  },
  {
   "cell_type": "code",
   "execution_count": 1,
   "metadata": {},
   "outputs": [],
   "source": [
    "from sklearn.datasets import make_blobs"
   ]
  },
  {
   "cell_type": "code",
   "execution_count": 2,
   "metadata": {},
   "outputs": [],
   "source": [
    "import numpy as np\n",
    "\n",
    "blob_centers = np.array(\n",
    "    [[ 0.2,  2.3],\n",
    "     [-1.5 ,  2.3],\n",
    "     [-2.8,  1.8],\n",
    "     [-2.8,  2.8],\n",
    "     [-2.8,  1.3]])\n",
    "blob_std = np.array([0.4, 0.3, 0.1, 0.1, 0.1])"
   ]
  },
  {
   "cell_type": "code",
   "execution_count": 3,
   "metadata": {},
   "outputs": [],
   "source": [
    "X, y = make_blobs(n_samples=2000, centers=blob_centers,\n",
    "                  cluster_std=blob_std, random_state=7)"
   ]
  },
  {
   "cell_type": "code",
   "execution_count": 4,
   "metadata": {},
   "outputs": [],
   "source": [
    "def plot_clusters(X, y=None):\n",
    "    plt.scatter(X[:, 0], X[:, 1], c=y, s=1)\n",
    "    plt.xlabel(\"$x_1$\", fontsize=14)\n",
    "    plt.ylabel(\"$x_2$\", fontsize=14, rotation=0)"
   ]
  },
  {
   "cell_type": "code",
   "execution_count": 5,
   "metadata": {},
   "outputs": [
    {
     "data": {
      "image/png": "[encoded data removed]",
      "text/plain": [
       "<Figure size 576x288 with 1 Axes>"
      ]
     },
     "metadata": {
      "needs_background": "light"
     },
     "output_type": "display_data"
    }
   ],
   "source": [
    "import matplotlib.pyplot as plt\n",
    "\n",
    "plt.figure(figsize=(8, 4))\n",
    "plot_clusters(X)\n",
    "plt.show()"
   ]
  },
  {
   "cell_type": "code",
   "execution_count": 8,
   "metadata": {},
   "outputs": [],
   "source": [
    "from sklearn.cluster import KMeans\n",
    "\n",
    "k = 5\n",
    "kmeans = KMeans(n_clusters = k)\n",
    "y_pred = kmeans.fit_predict(X)"
   ]
  },
  {
   "cell_type": "markdown",
   "metadata": {},
   "source": [
    "Note that you have specify the number of clusters $k$ that the algorithm must find. In this example, it is pretty obvious from looking at the data that $k$ should be set to $5$, but in general it is not that easy. We will discuss that shortly."
   ]
  },
  {
   "cell_type": "markdown",
   "metadata": {},
   "source": [
    "Each instance was assigned to one of the $5$ clusters. In the context of clustering, an instance's label is the index of the cluster that this instance gets assigned to by the algorithm: this is not to be confused with the class labels in classification (remember that clustering is an unsupervised learning task). The KMeans instance preserves a copy of the labels of the instances it was trained on, available via the labels_ instance variable:"
   ]
  },
  {
   "cell_type": "code",
   "execution_count": 9,
   "metadata": {},
   "outputs": [
    {
     "data": {
      "text/plain": [
       "array([0, 4, 1, ..., 2, 1, 4], dtype=int32)"
      ]
     },
     "execution_count": 9,
     "metadata": {},
     "output_type": "execute_result"
    }
   ],
   "source": [
    "y_pred"
   ]
  },
  {
   "cell_type": "code",
   "execution_count": 11,
   "metadata": {},
   "outputs": [
    {
     "data": {
      "text/plain": [
       "True"
      ]
     },
     "execution_count": 11,
     "metadata": {},
     "output_type": "execute_result"
    }
   ],
   "source": [
    "y_pred is kmeans.labels_"
   ]
  },
  {
   "cell_type": "markdown",
   "metadata": {},
   "source": [
    "We can also take a look at the $5$ centroids the algorithm found:"
   ]
  },
  {
   "cell_type": "code",
   "execution_count": 12,
   "metadata": {},
   "outputs": [
    {
     "data": {
      "text/plain": [
       "array([[-2.8003719 ,  1.30022776],\n",
       "       [ 0.20876306,  2.25551336],\n",
       "       [-2.79290307,  2.79641063],\n",
       "       [-1.46679593,  2.28585348],\n",
       "       [-2.80389191,  1.80053039]])"
      ]
     },
     "execution_count": 12,
     "metadata": {},
     "output_type": "execute_result"
    }
   ],
   "source": [
    "kmeans.cluster_centers_"
   ]
  },
  {
   "cell_type": "markdown",
   "metadata": {},
   "source": [
    "Of course, you can easily assign new instances to the cluster whose centroid is closest:"
   ]
  },
  {
   "cell_type": "code",
   "execution_count": 13,
   "metadata": {},
   "outputs": [
    {
     "data": {
      "text/plain": [
       "array([1, 1, 2, 2], dtype=int32)"
      ]
     },
     "execution_count": 13,
     "metadata": {},
     "output_type": "execute_result"
    }
   ],
   "source": [
    "X_new = np.array([[0, 2], [3, 2], [-3, 3], [-3, 2.5]])\n",
    "kmeans.predict(X_new)"
   ]
  },
  {
   "cell_type": "markdown",
   "metadata": {},
   "source": [
    "If you plot the cluster's decision boundaries, you get a Voronoi tesellation (see below figure, where each centroid is represented with an $X$).\n",
    "\n",
    "![](k_means_decision_boundaries_voronoi.png)"
   ]
  },
  {
   "cell_type": "markdown",
   "metadata": {},
   "source": [
    "The vast majority of the instances were clearly assigned to the appropriate cluster, but a few instances were probably mislabeled (especially near the boundary between the\n",
    "top left cluster and the central cluster). Indeed, the K-Means algorithm does not behave very well when the blobs have very different diameters since all it cares about when assigning an instance to a cluster is the distance to the centroid.\n",
    "\n",
    "Instead of assigning each instance to a single cluster, which is called hard clustering, it can be useful to just give each instance a score per cluster: this is called soft clustering.\n",
    "For example, the score can be the distance between the instance and the centroid, or conversely it can be a similarity score (or affinity) such as the Gaussian Radial Basis\n",
    "Function\n",
    "\n",
    "In the KMeans class, the transform() method measures the distance from each instance to every centroid:"
   ]
  },
  {
   "cell_type": "code",
   "execution_count": 14,
   "metadata": {},
   "outputs": [
    {
     "data": {
      "text/plain": [
       "array([[2.88647951, 0.32995317, 2.9042344 , 1.49439034, 2.81097811],\n",
       "       [5.8424306 , 2.80290755, 5.84739223, 4.4759332 , 5.80731861],\n",
       "       [1.71145466, 3.29399768, 0.29040966, 1.69136631, 1.2153953 ],\n",
       "       [1.21626675, 3.21806371, 0.36159148, 1.54808703, 0.72644072]])"
      ]
     },
     "execution_count": 14,
     "metadata": {},
     "output_type": "execute_result"
    }
   ],
   "source": [
    "kmeans.transform(X_new)"
   ]
  },
  {
   "cell_type": "markdown",
   "metadata": {},
   "source": [
    "## The K-Means Algorithm"
   ]
  },
  {
   "cell_type": "markdown",
   "metadata": {},
   "source": [
    "So how does the algorithm work? Well it is really quite simple. Suppose you were\n",
    "given the centroids: you could easily label all the instances in the dataset by assigning\n",
    "each of them to the cluster whose centroid is closest. Conversely, if you were given all\n",
    "the instance labels, you could easily locate all the centroids by computing the mean of\n",
    "the instances for each cluster. But you are given neither the labels nor the centroids,\n",
    "so how can you proceed? Well, just start by placing the centroids randomly (e.g., by\n",
    "picking $k$ instances at random and using their locations as centroids). Then label the\n",
    "instances, update the centroids, label the instances, update the centroids, and so on\n",
    "until the centroids stop moving. The algorithm is guaranteed to converge in a finite\n",
    "number of steps (usually quite small), it will not oscillate forever. You can see the\n",
    "algorithm in action in the below figure: the centroids  are initialized randomly (top left),\n",
    "then the instances are labeled (top right), then the centroids are updated (center left),\n",
    "the instances are relabeled (center right), and so on. As you can see, in just $3$ iterations\n",
    "the algorithm has reached a clustering that seems close to optimal.\n",
    "\n",
    "![](k_means_algorithm.png)\n",
    "\n",
    "The computational complexity of the algorithm is generally linear\n",
    "with regards to the number of instances $m$, the number of clusters\n",
    "$k$ and the number of dimensions $n$. However, this is only true when\n",
    "the data has a clustering structure. If it does not, then in the worst\n",
    "case scenario the complexity can increase exponentially with the\n",
    "number of instances. In practice, however, this rarely happens, and\n",
    "K-Means is generally one of the fastest clustering algorithms."
   ]
  },
  {
   "cell_type": "markdown",
   "metadata": {},
   "source": [
    "Unfortunately, although the algorithm is guaranteed to converge, it may not converge to the right solution (i.e., it may converge to a local optimum): this depends on the\n",
    "centroid initialization. For example, the below figure shows two sub-optimal solutions that the algorithm can converge to if you are not lucky with the random intialization step:\n",
    "\n",
    "![](suboptimal_solutions_unlucky_centroid_initialization.png)\n",
    "\n",
    "Let’s look at a few ways you can mitigate this risk by improving the centroid initialization."
   ]
  },
  {
   "cell_type": "markdown",
   "metadata": {},
   "source": [
    "### Centroid Intialization Methods"
   ]
  },
  {
   "cell_type": "markdown",
   "metadata": {},
   "source": [
    "If you happen to know approximately where the centroids should be (e.g., if you ran\n",
    "another clustering algorithm earlier), then you can set the init hyperparameter to a\n",
    "NumPy array containing the list of centroids, and set n_init to $1$:"
   ]
  },
  {
   "cell_type": "code",
   "execution_count": 15,
   "metadata": {},
   "outputs": [],
   "source": [
    "good_init = np.array([[-3, 3], [-3, 2], [-3, 1], [-1, 2], [0, 2]])\n",
    "kmeans = KMeans(n_clusters=5, init=good_init, n_init=1)"
   ]
  },
  {
   "cell_type": "markdown",
   "metadata": {},
   "source": [
    "Another solution is to run the algorithm multiple times with different random initializations\n",
    "and keep the best solution. This is controlled by the n_init hyperparameter:\n",
    "by default, it is equal to 10, which means that the whole algorithm described earlier\n",
    "actually runs 10 times when you call fit(), and Scikit-Learn keeps the best solution.\n",
    "But how exactly does it know which solution is the best? Well of course it uses a performance\n",
    "metric! It is called the model’s inertia: this is the mean squared distance\n",
    "between each instance and its closest centroid. It is roughly equal to $223.3$ for the\n",
    "model on the left of the above figure, $211.6$ for the model on the right of the above figure. The KMeans class runs the algorithm n_init times and keeps the model with the lowest inertia.\n",
    "\n",
    "If you are curious, a model's inertia is accessible via the inertia_ instance variable:"
   ]
  },
  {
   "cell_type": "code",
   "execution_count": 17,
   "metadata": {},
   "outputs": [],
   "source": [
    "# kmeans.inertia_"
   ]
  },
  {
   "cell_type": "markdown",
   "metadata": {},
   "source": [
    "The score() method returns the negative inertia. Why negative? Well, it is because a predictor's score() method always respect the \"greater is better\" rule."
   ]
  },
  {
   "cell_type": "markdown",
   "metadata": {},
   "source": [
    "An important improvement to the K-Means algorithm, called K-Means+\\+, was proposed in a 2006 paper by David Arthur and Sergei Vassilvitskii: they introduced a smarter initialization step that tends to select centroids that are distant from one\n",
    "another, and this makes the K-Means algorithm much less likely to converge to a suboptimal solution. They showed that the additional computation required for the smarter initialization step is well worth it since it makes it possible to drastically\n",
    "reduce the number of times the algorithm needs to be run to find the optimal solution.\n",
    "Here is the K-Means++ initialization algorithm: (omitted for now)\n",
    "\n",
    "The KMeans class actually uses this initialization method by default. If you want to\n",
    "force it to use the original method (i.e., picking $k$ instances randomly to define the\n",
    "initial centroids), then you can set the init hyperparameter to \"random\". You will\n",
    "rarely need to do this.\n",
    "\n",
    "\n",
    "**Accelerated K-Means**\n",
    "\n",
    "Another important improvement to the K-Means algorithm was proposed in a 2003 paper by Charles Elkan. It considerably accelerates the algorithm by avoiding many\n",
    "unnecessary distance calculations: this is achieved by exploiting the triangle inequality (i.e., the straight line is always the shortest) and by keeping track of lower and\n",
    "upper bounds for distances between instances and centroids. This is the algorithm\n",
    "used by default by the KMeans class (but you can force it to use the original algorithm\n",
    "by setting the algorithm hyperparameter to \"full\", although you probably will\n",
    "never need to)."
   ]
  },
  {
   "cell_type": "markdown",
   "metadata": {},
   "source": [
    "###  Finding the Optimal Number of Clusters\n",
    "\n",
    "So far, we have set the number of clusters k to 5 because it was obvious by looking at\n",
    "the data that this is the correct number of clusters. But in general, it will not be so\n",
    "easy to know how to set k, and the result might be quite bad if you set it to the wrong\n",
    "value. For example, as you can see in the below figure, setting k to 3 or 8 results in fairly\n",
    "bad models:\n",
    "\n",
    "![](bad_choice_number_clusters.png)\n",
    "\n",
    "You might be thinking that we could just pick the model with the lowest inertia,\n",
    "right? Unfortunately, it is not that simple. The inertia for k=3 is 653.2, which is much\n",
    "higher than for k=5 (which was 211.6), but with k=8, the inertia is just 119.1. The\n",
    "inertia is not a good performance metric when trying to choose k since it keeps getting\n",
    "lower as we increase k. Indeed, the more clusters there are, the closer each\n",
    "instance will be to its closest centroid, and therefore the lower the inertia will be. Let’s\n",
    "plot the inertia as a function of k (see below figure)\n",
    "\n",
    "![](selecting_clusters_elbow_rule.png)\n",
    "\n",
    "As you can see, the inertia drops very quickly as we increase k up to 4, but then it\n",
    "decreases much more slowly as we keep increasing k. This curve has roughly the\n",
    "shape of an arm, and there is an “elbow” at k=4 so if we did not know better, it would\n",
    "be a good choice: any lower value would be dramatic, while any higher value would\n",
    "not help much, and we might just be splitting perfectly good clusters in half for no\n",
    "good reason.\n",
    "\n",
    "This technique for choosing the best value for the number of clusters is rather coarse.\n",
    "A more precise approach (but also more computationally expensive) is to use the silhouette\n",
    "score, which is the mean silhouette coefficient over all the instances. An instance’s\n",
    "silhouette coefficient is equal to (b – a) / max(a, b) where a is the mean distance\n",
    "to the other instances in the same cluster (it is the mean intra-cluster distance), and b\n",
    "is the mean nearest-cluster distance, that is the mean distance to the instances of the\n",
    "next closest cluster (defined as the one that minimizes b, excluding the instance’s own\n",
    "cluster). The silhouette coefficient can vary between -1 and +1: a coefficient close to\n",
    "+1 means that the instance is well inside its own cluster and far from other clusters,\n",
    "while a coefficient close to 0 means that it is close to a cluster boundary, and finally a\n",
    "coefficient close to -1 means that the instance may have been assigned to the wrong\n",
    "cluster. To compute the silhouette score, you can use Scikit-Learn’s silhou\n",
    "ette_score() function, giving it all the instances in the dataset, and the labels they\n",
    "were assigned:"
   ]
  },
  {
   "cell_type": "code",
   "execution_count": 18,
   "metadata": {},
   "outputs": [],
   "source": [
    "# from sklearn.metrics import silhouette_score\n",
    "# silhouette_score(X, kmeans.labels_)"
   ]
  },
  {
   "cell_type": "markdown",
   "metadata": {},
   "source": [
    "Let’s compare the silhouette scores for different numbers of clusters (see below figure)\n",
    "\n",
    "![](silhouette_score_clusters_k.png)\n",
    "\n",
    "As you can see, this visualization is much richer than the previous one: in particular,\n",
    "although it confirms that k=4 is a very good choice, it also underlines the fact that\n",
    "k=5 is quite good as well, and much better than k=6 or 7. This was not visible when\n",
    "comparing inertias."
   ]
  },
  {
   "cell_type": "markdown",
   "metadata": {},
   "source": [
    "An even more informative visualization is obtained when you plot every instance's silhouette coefficient, sorted by the cluster they are assigned to and by the value of the coefficient. This is called the *silhouette diagram* (see below figure)\n",
    "\n",
    "![](silhouette_analysis.png)\n",
    "\n",
    "The vertical dashed lines represent the silhouette score for each number of clusters.\n",
    "When most of the instances in a cluster have a lower coefficient than this score (i.e., if\n",
    "many of the instances stop short of the dashed line, ending to the left of it), then the\n",
    "cluster is rather bad since this means its instances are much too close to other clusters. We can see that when k=3 and when k=6, we get bad clusters. But when k=4 or\n",
    "k=5, the clusters look pretty good – most instances extend beyond the dashed line, to\n",
    "the right and closer to 1.0. When k=4, the cluster at index 1 (the third from the top),\n",
    "is rather big, while when k=5, all clusters have similar sizes, so even though the overall\n",
    "silhouette score from k=4 is slightly greater than for k=5, it seems like a good idea\n",
    "to use k=5 to get clusters of similar sizes."
   ]
  },
  {
   "cell_type": "markdown",
   "metadata": {},
   "source": [
    "## Limits of K-Means\n",
    "\n",
    "Despite its many merits, most notably being fast and scalable, K_Means is not perfect. As we saw, it is necessary to run the algorithm several tijmes to avoid sub-optimal solutions, plus you need to specify the number of clusters, which can be quite a hassle. Moreover, K-Means does not behave very well when the clusters have varying sizes, different densities, or non-spherical shapes. For example, the figure below, shows how K-Means clusters a dataset containing three ellipsoidal clusters of different dimensions, densities and orientations:\n",
    "\n",
    "![](k_means_fail_ellipsoidal_blobs.png)\n",
    "\n",
    "As you can see, neither of these solutions are any good. The solution on the left is better, but it still chops off 25% of the middle cluster and assigns it to the cluster on\n",
    "the right. The solution on the right is just terrible, even though its inertia is lower. So depending on the data, different clustering algorithms may perform better. For example, on these types of elliptical clusters, Gaussian mixture models work great.\n",
    "\n",
    "It is important to scale the input features before you run K-Means,\n",
    "or else the clusters may be very stretched, and K-Means will perform\n",
    "poorly. Scaling the features does not guarantee that all the\n",
    "clusters will be nice and spherical, but it generally improves things."
   ]
  },
  {
   "cell_type": "markdown",
   "metadata": {},
   "source": [
    "## DBSCAN\n",
    "\n",
    "This algorithm defines clusters as continuous regions of high density. It is actually quite simple:\n",
    "\n",
    "- For each instance, the algorithm counts how many instances are located within a small distance $\\epsilon$ from it. This region is called the instance's $\\epsilon$-neighborhood.\n",
    "\n",
    "- If an instance has at least min_samples instances in its $\\epsilon$-neighborhood (including itself), then it is considered a *core instance*. In other words, core instances are those that are located in dense regions.\n",
    "\n",
    "- All instances in the neighborhood of a core instance belong to the same cluster. This may include other core instances, therefore a long sequence of neighboring core instances forms a single cluster.\n",
    "\n",
    "- Any instance that is not a core instance and does not have one in its neighborhood is considered an anomaly.\n",
    "\n",
    "This algorithm works well if all the clusters are dense enough, and they are well separated by low-density regions. The DBSCAN class in Scikit-Learn is simple to use. Let's test it on the moons dataset."
   ]
  },
  {
   "cell_type": "code",
   "execution_count": 19,
   "metadata": {},
   "outputs": [],
   "source": [
    "from sklearn.datasets import make_moons"
   ]
  },
  {
   "cell_type": "code",
   "execution_count": 20,
   "metadata": {},
   "outputs": [],
   "source": [
    "X, y = make_moons(n_samples=1000, noise=0.05, random_state=42)"
   ]
  },
  {
   "cell_type": "code",
   "execution_count": 21,
   "metadata": {},
   "outputs": [],
   "source": [
    "from sklearn.cluster import DBSCAN"
   ]
  },
  {
   "cell_type": "code",
   "execution_count": 22,
   "metadata": {},
   "outputs": [
    {
     "data": {
      "text/plain": [
       "DBSCAN(eps=0.05)"
      ]
     },
     "execution_count": 22,
     "metadata": {},
     "output_type": "execute_result"
    }
   ],
   "source": [
    "dbscan = DBSCAN(eps = 0.05, min_samples = 5)\n",
    "dbscan.fit(X)"
   ]
  },
  {
   "cell_type": "markdown",
   "metadata": {},
   "source": [
    "THe labels of all the instances are now available in the labels_ instance variable:\n"
   ]
  },
  {
   "cell_type": "code",
   "execution_count": 23,
   "metadata": {
    "scrolled": true
   },
   "outputs": [
    {
     "data": {
      "text/plain": [
       "array([ 0,  2, -1, -1,  1,  0,  0,  0,  2,  5,  2,  3,  0,  2,  2,  2,  4,\n",
       "        2,  2,  4,  0,  5,  1,  0,  5,  5,  3,  2,  2,  2,  4,  5,  0,  6,\n",
       "        1, -1,  0,  0,  2,  3, -1,  3,  4, -1,  4,  4,  2,  0,  6,  2,  0,\n",
       "        2,  4,  0,  3,  3,  0,  3,  5,  2, -1,  3,  0,  5,  0,  0,  0,  2,\n",
       "        3,  0,  3,  6,  0,  2,  4,  4,  0,  3,  0,  4,  0,  3, -1,  3,  4,\n",
       "        0, -1,  2,  2,  4,  1,  6,  0,  5,  2,  6,  2,  3,  3, -1,  2, -1,\n",
       "        2,  4,  0,  0,  0,  2,  5,  2,  0,  2, -1,  2,  3,  1,  5,  2,  0,\n",
       "        4,  2,  1,  2,  4,  4,  0,  0,  6,  2,  2,  0,  2, -1,  2,  0,  3,\n",
       "        3,  5, -1,  3,  3,  5,  2,  4,  2,  2,  2,  4,  2,  4,  0, -1,  2,\n",
       "        1,  2,  6,  4,  2,  3,  2, -1,  2,  0,  0,  2,  0,  4,  0,  4,  4,\n",
       "        1,  6,  3,  2,  6,  1,  4,  4,  2,  0,  6,  0,  1,  0,  2,  5,  1,\n",
       "        1,  2,  2,  2,  2,  0,  5,  5,  1,  4,  5,  0,  3,  3,  0,  0,  0,\n",
       "        2,  0,  5,  2, -1,  2,  3,  5,  2,  2,  0,  4,  0,  4,  2,  2,  4,\n",
       "        2,  2,  3,  2,  3,  0,  1,  2,  0,  4, -1,  6,  0,  3,  3,  5, -1,\n",
       "        5,  4,  3,  5,  0,  2, -1,  3,  6,  3,  3,  4,  3,  2,  2,  2,  1,\n",
       "        4,  0,  2,  2, -1,  2,  6,  3,  4,  4,  2,  2,  1,  0,  1,  6,  3,\n",
       "        2,  4,  0,  3,  5,  0,  3,  2,  0,  2,  5,  4,  5,  2, -1,  6,  5,\n",
       "        2,  2,  2,  0,  6,  1,  6,  2,  1,  3,  5,  0,  1, -1,  1,  2,  2,\n",
       "        4, -1,  2,  0,  0,  0,  0,  2,  6,  6, -1,  1,  2,  5,  3,  5,  4,\n",
       "        0,  2,  0, -1,  6,  2,  3,  2,  4,  2,  0, -1,  4, -1,  0, -1,  0,\n",
       "        6,  1,  5,  3,  1,  1,  0,  2,  3,  2, -1,  4,  2,  3,  4,  5,  4,\n",
       "       -1,  4, -1,  1,  0,  5,  6,  5,  3,  2,  5,  1, -1,  5,  2,  5,  5,\n",
       "        3,  2,  6,  3,  2,  2,  5,  5,  2,  5,  5,  2, -1,  3,  2,  2,  5,\n",
       "        3,  0,  3,  0,  3,  1,  6,  2,  2,  3,  6,  0,  0,  0,  0,  2, -1,\n",
       "        3,  0, -1,  2,  2,  4,  2,  2,  0,  2,  0,  6,  3,  2,  6,  0,  6,\n",
       "        1,  3,  3,  0,  4,  4,  1,  4,  6,  4,  3,  5,  1,  2, -1,  5,  0,\n",
       "        2,  0,  0,  0,  0,  5,  0,  0,  0,  2,  1,  5,  5,  0,  2,  0,  1,\n",
       "        1,  3,  3,  0,  2,  1,  3,  3,  1,  0,  6,  1,  3,  2,  3,  4,  2,\n",
       "        2,  2,  0,  0,  0,  3, -1,  1,  0,  3,  3,  4,  5,  6, -1,  0,  2,\n",
       "        3,  6,  5,  6,  1,  2,  2,  0,  5,  1,  2,  2,  2,  0,  1,  2,  2,\n",
       "        4,  0,  4,  3,  4,  2,  5, -1,  2,  3,  1,  0, -1,  4,  1,  0,  2,\n",
       "       -1,  0,  3,  0,  3,  0,  4,  2,  6,  5,  3,  2,  6,  5,  4,  5, -1,\n",
       "        3,  2,  0,  2,  0,  3,  3,  6,  0,  3,  2,  2,  1,  4,  3,  1,  5,\n",
       "       -1,  2,  2,  4,  6,  0,  4,  4,  2,  5,  3,  2,  3,  4,  2,  5,  6,\n",
       "        1,  0,  4,  3, -1,  2,  2,  1,  0, -1,  3,  5,  4,  2,  0,  2,  2,\n",
       "        5,  4,  0,  0,  2,  3,  3,  4,  4,  0,  2,  5,  3,  0, -1,  5,  4,\n",
       "       -1,  2,  2,  0,  2,  0, -1, -1,  2, -1, -1,  5,  3,  0,  3,  2,  2,\n",
       "        0,  2,  6,  4,  2,  2,  5,  3,  2,  6,  2,  1,  5,  3,  2,  1,  6,\n",
       "        2,  2,  2,  2,  5,  2,  2,  0, -1,  2,  0,  2,  5,  2, -1,  2,  2,\n",
       "        2,  3,  4,  0,  3,  1, -1,  2,  0,  2,  0, -1,  3,  5,  1,  2,  5,\n",
       "        0,  2,  2,  3,  2,  3,  6, -1,  4,  4,  2,  0,  0, -1,  2,  4,  0,\n",
       "        4,  1,  5,  2, -1, -1,  0,  2,  6,  5,  3,  2,  2,  2,  0,  1,  6,\n",
       "        4,  5,  3,  2,  0,  5, -1,  5,  0,  4,  4,  1,  3,  5,  5,  6,  4,\n",
       "        1,  2,  2,  2,  2,  2,  3,  0,  1,  2,  2,  2,  2,  5,  0,  2,  2,\n",
       "        2,  2,  0,  2,  2,  1,  2,  0,  4,  2,  6,  6,  3,  0,  4,  2, -1,\n",
       "        0,  1,  2,  2,  5,  2,  0,  4,  0,  1,  2,  0,  1, -1, -1,  0,  0,\n",
       "        4,  1,  1,  5,  2,  2,  6,  4, -1,  0,  2,  2,  2,  0,  2,  2,  0,\n",
       "        2,  0,  2,  0,  2,  3,  4,  0,  5,  0,  3,  0,  5,  0,  2,  2,  2,\n",
       "        2,  2,  3,  0,  4,  2,  0,  0,  6,  0,  2,  5,  1,  2,  1,  2,  2,\n",
       "        5, -1,  2,  0,  2,  0,  2,  0,  2,  0,  3, -1,  2,  0,  1,  0,  3,\n",
       "        3,  2,  2,  5,  5,  3,  2,  5,  6, -1,  1,  4,  1,  0,  1,  0,  6,\n",
       "        3,  3,  6,  0,  3,  2,  0,  2, -1,  3,  2,  3,  5,  3,  6,  1,  5,\n",
       "        2,  5,  2,  3,  2,  4,  2,  2,  2,  4,  0,  4,  2,  6,  6,  2, -1,\n",
       "        2,  4,  5,  5,  0,  2,  1,  0,  6,  2,  2,  3,  0,  1, -1,  2,  2,\n",
       "        0,  3,  5,  3,  2,  0,  1,  6,  1, -1,  4,  2,  0,  4,  2,  4,  3,\n",
       "        4, -1,  1,  4,  5,  2,  2,  0,  2,  6,  2,  0,  2,  4,  0,  2,  0,\n",
       "        0,  5,  2, -1,  6, -1,  0,  3,  6,  0,  2,  2,  4,  3,  4,  6,  5,\n",
       "        4,  2,  5,  1, -1,  1,  6,  4,  2,  4,  0,  5,  0,  2,  3,  1,  3,\n",
       "        6,  4,  5, -1,  3, -1,  3,  2,  3,  3,  4,  2,  6,  3])"
      ]
     },
     "execution_count": 23,
     "metadata": {},
     "output_type": "execute_result"
    }
   ],
   "source": [
    "dbscan.labels_"
   ]
  },
  {
   "cell_type": "markdown",
   "metadata": {},
   "source": [
    "Notice that some instances have a cluster index equal to $-1$: this means that they are considered as anomalies by the algorithm. The indices of the core instances are available in the core_sample_indices_ instance variable, and the core instances themselves are available in the core_sample_indices_ instance variable, and the core instances themselves are available in the components_ instance variable:"
   ]
  },
  {
   "cell_type": "code",
   "execution_count": 24,
   "metadata": {},
   "outputs": [
    {
     "data": {
      "text/plain": [
       "808"
      ]
     },
     "execution_count": 24,
     "metadata": {},
     "output_type": "execute_result"
    }
   ],
   "source": [
    "len(dbscan.core_sample_indices_)"
   ]
  },
  {
   "cell_type": "code",
   "execution_count": 25,
   "metadata": {
    "scrolled": true
   },
   "outputs": [
    {
     "data": {
      "text/plain": [
       "array([  0,   4,   5,   6,   7,   8,  10,  11,  12,  13,  14,  16,  17,\n",
       "        18,  19,  20,  21,  22,  23,  24,  25,  26,  28,  29,  30,  31,\n",
       "        32,  33,  34,  36,  38,  39,  41,  42,  44,  45,  47,  49,  50,\n",
       "        51,  52,  53,  54,  55,  56,  58,  59,  61,  63,  64,  65,  66,\n",
       "        67,  68,  69,  70,  71,  72,  73,  74,  75,  76,  77,  78,  79,\n",
       "        80,  81,  83,  84,  85,  87,  88,  89,  90,  91,  93,  94,  96,\n",
       "        97,  98, 102, 103, 104, 105, 106, 107, 108, 109, 110, 113, 114,\n",
       "       115, 116, 117, 119, 120, 122, 123, 124, 125, 126, 127, 128, 129,\n",
       "       130, 135, 136, 139, 140, 141, 143, 144, 145, 146, 147, 148, 149,\n",
       "       150, 152, 153, 154, 155, 156, 157, 158, 159, 161, 162, 163, 164,\n",
       "       165, 166, 167, 168, 169, 170, 172, 173, 174, 175, 176, 177, 178,\n",
       "       179, 181, 182, 183, 185, 186, 187, 188, 189, 191, 193, 194, 195,\n",
       "       196, 198, 199, 200, 201, 202, 203, 204, 205, 206, 207, 209, 210,\n",
       "       211, 212, 213, 214, 215, 216, 217, 218, 219, 221, 222, 223, 224,\n",
       "       226, 228, 229, 230, 232, 233, 234, 235, 236, 238, 239, 240, 241,\n",
       "       242, 243, 245, 246, 247, 248, 249, 250, 251, 252, 253, 255, 256,\n",
       "       257, 260, 261, 262, 263, 264, 265, 266, 267, 268, 269, 270, 271,\n",
       "       272, 273, 274, 276, 277, 278, 279, 280, 281, 282, 283, 284, 285,\n",
       "       287, 288, 289, 290, 291, 293, 294, 295, 296, 297, 300, 301, 303,\n",
       "       304, 305, 308, 309, 310, 311, 313, 315, 317, 318, 319, 320, 321,\n",
       "       322, 323, 324, 327, 328, 329, 330, 332, 333, 335, 339, 340, 341,\n",
       "       342, 343, 346, 347, 348, 349, 351, 352, 353, 354, 355, 356, 358,\n",
       "       360, 361, 362, 363, 364, 365, 366, 367, 368, 370, 371, 372, 373,\n",
       "       374, 375, 377, 378, 379, 380, 381, 382, 384, 385, 387, 388, 389,\n",
       "       390, 391, 392, 393, 394, 395, 397, 398, 399, 400, 401, 402, 403,\n",
       "       404, 405, 406, 409, 411, 412, 413, 414, 415, 416, 417, 418, 419,\n",
       "       420, 421, 422, 423, 424, 425, 426, 427, 428, 429, 430, 431, 432,\n",
       "       433, 435, 436, 437, 438, 440, 441, 442, 443, 444, 445, 446, 447,\n",
       "       448, 449, 450, 451, 452, 453, 454, 456, 457, 458, 459, 461, 462,\n",
       "       463, 464, 467, 468, 469, 471, 472, 473, 474, 475, 476, 477, 478,\n",
       "       479, 480, 483, 484, 485, 486, 487, 488, 489, 491, 492, 493, 495,\n",
       "       496, 497, 498, 499, 501, 502, 503, 504, 505, 506, 507, 508, 509,\n",
       "       510, 511, 512, 513, 514, 515, 516, 518, 519, 520, 521, 523, 524,\n",
       "       525, 526, 528, 529, 530, 531, 532, 533, 535, 536, 537, 538, 539,\n",
       "       540, 541, 542, 544, 545, 546, 547, 548, 549, 550, 551, 552, 553,\n",
       "       554, 555, 556, 557, 559, 560, 562, 563, 564, 565, 566, 568, 569,\n",
       "       570, 572, 573, 574, 575, 576, 578, 579, 580, 583, 584, 585, 586,\n",
       "       588, 589, 590, 591, 592, 593, 594, 595, 596, 597, 599, 600, 601,\n",
       "       602, 603, 604, 605, 607, 610, 611, 614, 615, 616, 617, 620, 624,\n",
       "       625, 627, 628, 629, 631, 633, 634, 635, 636, 637, 638, 639, 640,\n",
       "       641, 642, 643, 644, 645, 646, 647, 648, 649, 650, 652, 655, 656,\n",
       "       657, 661, 662, 663, 664, 666, 667, 670, 671, 672, 673, 675, 676,\n",
       "       677, 678, 679, 680, 681, 682, 684, 685, 686, 688, 689, 690, 691,\n",
       "       692, 694, 695, 696, 697, 698, 703, 704, 705, 706, 708, 709, 710,\n",
       "       711, 712, 713, 714, 716, 717, 718, 719, 721, 722, 723, 724, 726,\n",
       "       729, 730, 731, 733, 735, 736, 737, 738, 739, 740, 741, 742, 743,\n",
       "       744, 745, 746, 748, 749, 750, 751, 752, 753, 754, 756, 757, 758,\n",
       "       759, 760, 761, 762, 763, 765, 766, 768, 770, 772, 773, 774, 775,\n",
       "       776, 777, 780, 781, 782, 783, 784, 785, 786, 787, 788, 789, 791,\n",
       "       792, 793, 794, 795, 796, 797, 798, 799, 800, 802, 803, 804, 805,\n",
       "       806, 807, 808, 809, 810, 811, 812, 813, 814, 815, 816, 817, 818,\n",
       "       819, 820, 821, 822, 824, 825, 826, 827, 828, 829, 830, 831, 832,\n",
       "       835, 836, 837, 838, 839, 840, 841, 842, 843, 845, 846, 848, 849,\n",
       "       850, 851, 852, 853, 854, 855, 857, 858, 860, 861, 862, 863, 864,\n",
       "       865, 867, 868, 870, 871, 873, 877, 878, 879, 880, 882, 883, 884,\n",
       "       885, 886, 887, 888, 889, 890, 891, 892, 893, 894, 895, 896, 897,\n",
       "       898, 899, 902, 903, 904, 905, 906, 907, 908, 910, 912, 913, 916,\n",
       "       918, 919, 920, 921, 922, 923, 925, 926, 928, 929, 930, 931, 932,\n",
       "       933, 934, 935, 937, 938, 939, 940, 941, 942, 943, 944, 945, 947,\n",
       "       948, 949, 951, 952, 953, 954, 956, 958, 959, 960, 961, 962, 963,\n",
       "       964, 965, 966, 967, 968, 969, 970, 972, 974, 975, 976, 978, 979,\n",
       "       980, 982, 983, 984, 985, 986, 987, 988, 990, 992, 993, 995, 997,\n",
       "       998, 999])"
      ]
     },
     "execution_count": 25,
     "metadata": {},
     "output_type": "execute_result"
    }
   ],
   "source": [
    "dbscan.core_sample_indices_"
   ]
  },
  {
   "cell_type": "code",
   "execution_count": 26,
   "metadata": {},
   "outputs": [
    {
     "data": {
      "text/plain": [
       "array([[-0.02137124,  0.40618608],\n",
       "       [-0.84192557,  0.53058695],\n",
       "       [ 0.58930337, -0.32137599],\n",
       "       ...,\n",
       "       [ 1.66258462, -0.3079193 ],\n",
       "       [-0.94355873,  0.3278936 ],\n",
       "       [ 0.79419406,  0.60777171]])"
      ]
     },
     "execution_count": 26,
     "metadata": {},
     "output_type": "execute_result"
    }
   ],
   "source": [
    "dbscan.components_"
   ]
  },
  {
   "cell_type": "markdown",
   "metadata": {},
   "source": [
    "The clustering is represented in the left plot of the below figure. As you can see, it idenfied a lot anomalies, plus $7$ different clusters. How disappoingting! Fortunately, if we widen each instance's neighborhood by increasing eps to $0.2$, we get the clustering on the right, which looks perfect. Let's continue with this model.\n",
    "\n",
    "![](DBSCAN_different_radiuses.png)"
   ]
  },
  {
   "cell_type": "markdown",
   "metadata": {},
   "source": [
    " Somewhat suprisingly, the DBSCAN class does not have a predict() method, although it has a fit_predict() method. In other words, it cannot predict which cluster a new instance belongs to. The rationale for this decision is that several classification algorithms could make sense here, and it is easy enough to train one, for example a KneighborsClassifier:"
   ]
  },
  {
   "cell_type": "code",
   "execution_count": 27,
   "metadata": {},
   "outputs": [],
   "source": [
    "from sklearn.neighbors import KNeighborsClassifier"
   ]
  },
  {
   "cell_type": "code",
   "execution_count": 28,
   "metadata": {},
   "outputs": [
    {
     "data": {
      "text/plain": [
       "KNeighborsClassifier(n_neighbors=50)"
      ]
     },
     "execution_count": 28,
     "metadata": {},
     "output_type": "execute_result"
    }
   ],
   "source": [
    "knn = KNeighborsClassifier(n_neighbors = 50)\n",
    "knn.fit(dbscan.components_, dbscan.labels_[dbscan.core_sample_indices_])"
   ]
  },
  {
   "cell_type": "markdown",
   "metadata": {},
   "source": [
    "Now, given a few new instances, we can predict in which cluster they most likely belong to, and even estimate a probability for each cluster. Note that we only trained them on the core instances, but we could also have chosen to train them on all the instances, or all but the anamalies: this choice depends on the final task."
   ]
  },
  {
   "cell_type": "code",
   "execution_count": 29,
   "metadata": {},
   "outputs": [
    {
     "data": {
      "text/plain": [
       "array([6, 0, 3, 2])"
      ]
     },
     "execution_count": 29,
     "metadata": {},
     "output_type": "execute_result"
    }
   ],
   "source": [
    "X_new = np.array([[-0.5, 0], [0, 0.5], [1, -0.1], [2, 1]])\n",
    "knn.predict(X_new)"
   ]
  },
  {
   "cell_type": "code",
   "execution_count": 30,
   "metadata": {},
   "outputs": [
    {
     "data": {
      "text/plain": [
       "array([[0.24, 0.  , 0.  , 0.  , 0.  , 0.  , 0.76],\n",
       "       [1.  , 0.  , 0.  , 0.  , 0.  , 0.  , 0.  ],\n",
       "       [0.  , 0.  , 0.3 , 0.7 , 0.  , 0.  , 0.  ],\n",
       "       [0.  , 0.  , 1.  , 0.  , 0.  , 0.  , 0.  ]])"
      ]
     },
     "execution_count": 30,
     "metadata": {},
     "output_type": "execute_result"
    }
   ],
   "source": [
    "knn.predict_proba(X_new)"
   ]
  },
  {
   "cell_type": "markdown",
   "metadata": {},
   "source": [
    "The decision boundary is represented on figure below (the crosses represent the $4$ instances in X_new). Notice that since there is no anomaly in the KNN’s training set, the classifier always chooses a cluster, even when that cluster is far away. However, it is fairly straightforward to introduce a maximum distance, in which case the two instances that are far away from both clusters are classified as anomalies. To do this, we can use the kneighbors() method of the KNeighborsClassifier: given a set of instances, it returns the distances and the indices of the $k$ nearest neighbors in the\n",
    "training set (two matrices, each with $k$ columns):"
   ]
  },
  {
   "cell_type": "code",
   "execution_count": 31,
   "metadata": {},
   "outputs": [
    {
     "data": {
      "text/plain": [
       "array([-1,  0,  3, -1])"
      ]
     },
     "execution_count": 31,
     "metadata": {},
     "output_type": "execute_result"
    }
   ],
   "source": [
    "y_dist, y_pred_idx = knn.kneighbors(X_new, n_neighbors=1)\n",
    "y_pred = dbscan.labels_[dbscan.core_sample_indices_][y_pred_idx]\n",
    "y_pred[y_dist > 0.2] = -1\n",
    "y_pred.ravel()"
   ]
  },
  {
   "cell_type": "markdown",
   "metadata": {},
   "source": [
    "![](cluster_classification_diagram.png)\n",
    "\n",
    "In short, DBSCAN is a very simple yet powerful algorithm, capable of identifying any number of clusters, of any shape, it is robust to outliers, and it has just two hyperparameters (eps and min_samples). However, if the densities varies significantly across the clusters, it can impossible for it capture all the clusters properly. Moreover, its computationally complexity is roughly $O(m \\log m)$, making it pretty close to linear with regards to the number of instances. However, Scikit-Learn's implementation can require up to $O(m^2)$ memory if eps is large."
   ]
  },
  {
   "cell_type": "markdown",
   "metadata": {},
   "source": [
    "## Gaussian Mixtures"
   ]
  },
  {
   "cell_type": "markdown",
   "metadata": {},
   "source": [
    "A *Gaussian mixture model* (GMM) is a probabilistic model that assumes that the instances were generated from a mixture of several Gaussian distributions whose parameters are unknown. All the instances generated from a single Gaussian distributiion form a cluster that typically looks like an ellipsoid, Each cluster can have a different ellipsoidal shape, size, density and orientation, just like in the earlier figure. When you observe an instance, you know it was generated from one of the Gaussian distributions, but you are not told which one, and you do not know what the parameters of these distributions are.\n",
    "\n",
    "There are several GMM variants: in the simplest variant, implemented in the GaussianMixture class, you must know in advance the number $k$ of Gaussian distributions. The dataset $X$ is assumed to have been generated through the following probabilistic process:\n",
    "\n",
    "- For each instance, a cluster is picked randomly among $k$ clusters. The probability of choosing the $j$th cluster is deined by the cluster's weights $\\phi^{(j)}$. The index of the custer chosen for the $i$th instance is noted $z^{(i)}$.\n",
    "\n",
    "- If $z^{(i)} = j$, meaning the $i$th instance has been assigned to the $j$th cluster, the location $x^{(i)}$ of this instance is sampled randomly from the Gaussian distribution with mean $\\mu^{(j)}$ and covariance matrix $\\Sigma^{(j)}$. This is noted $x^{(i)} \\sim \\mathcal{N}(\\mu^{(i)}, \\Sigma^{(j)})$.\n",
    "\n",
    "So what can you do with such a model? Well, given the dataset $X$ you typically want to start by estimating the weights $\\phi$ and all the distribution parameters $\\mu^{(i)}$ to $\\mu^{(k)}$ and $\\Sigma^{(1)}$ to $\\Sigma^{(k)}$. "
   ]
  },
  {
   "cell_type": "code",
   "execution_count": 33,
   "metadata": {},
   "outputs": [],
   "source": [
    "X1, y1 = make_blobs(n_samples=1000, centers=((4, -4), (0, 0)), random_state=42)\n",
    "X1 = X1.dot(np.array([[0.374, 0.95], [0.732, 0.598]]))\n",
    "X2, y2 = make_blobs(n_samples=250, centers=1, random_state=42)\n",
    "X2 = X2 + [6, -8]\n",
    "X = np.r_[X1, X2]\n",
    "y = np.r_[y1, y2]"
   ]
  },
  {
   "cell_type": "code",
   "execution_count": 34,
   "metadata": {},
   "outputs": [],
   "source": [
    "from sklearn.mixture import GaussianMixture"
   ]
  },
  {
   "cell_type": "code",
   "execution_count": 35,
   "metadata": {},
   "outputs": [
    {
     "data": {
      "text/plain": [
       "GaussianMixture(n_components=3, n_init=10, random_state=42)"
      ]
     },
     "execution_count": 35,
     "metadata": {},
     "output_type": "execute_result"
    }
   ],
   "source": [
    "gm = GaussianMixture(n_components=3, n_init=10, random_state=42)\n",
    "gm.fit(X)"
   ]
  },
  {
   "cell_type": "markdown",
   "metadata": {},
   "source": [
    "Let's look at the parameters that the algorithm estimated:"
   ]
  },
  {
   "cell_type": "code",
   "execution_count": 36,
   "metadata": {},
   "outputs": [
    {
     "data": {
      "text/plain": [
       "array([0.39054348, 0.2093669 , 0.40008962])"
      ]
     },
     "execution_count": 36,
     "metadata": {},
     "output_type": "execute_result"
    }
   ],
   "source": [
    "gm.weights_"
   ]
  },
  {
   "cell_type": "code",
   "execution_count": 37,
   "metadata": {},
   "outputs": [
    {
     "data": {
      "text/plain": [
       "array([[ 0.05224874,  0.07631976],\n",
       "       [ 3.40196611,  1.05838748],\n",
       "       [-1.40754214,  1.42716873]])"
      ]
     },
     "execution_count": 37,
     "metadata": {},
     "output_type": "execute_result"
    }
   ],
   "source": [
    "gm.means_"
   ]
  },
  {
   "cell_type": "code",
   "execution_count": 38,
   "metadata": {},
   "outputs": [
    {
     "data": {
      "text/plain": [
       "array([[[ 0.6890309 ,  0.79717058],\n",
       "        [ 0.79717058,  1.21367348]],\n",
       "\n",
       "       [[ 1.14296668, -0.03114176],\n",
       "        [-0.03114176,  0.9545003 ]],\n",
       "\n",
       "       [[ 0.63496849,  0.7298512 ],\n",
       "        [ 0.7298512 ,  1.16112807]]])"
      ]
     },
     "execution_count": 38,
     "metadata": {},
     "output_type": "execute_result"
    }
   ],
   "source": [
    "gm.covariances_"
   ]
  },
  {
   "cell_type": "markdown",
   "metadata": {},
   "source": [
    "But how? This class relies on the **Expectation-\n",
    "Maximization** (EM) algorithm (https://stephens999.github.io/fiveMinuteStats/intro_to_em.html), which has many similarities with the K-Means algorithm (details later!)"
   ]
  },
  {
   "cell_type": "markdown",
   "metadata": {},
   "source": [
    "You can check whether or not the algorithm converged and how many iterations it\n",
    "took:"
   ]
  },
  {
   "cell_type": "code",
   "execution_count": 39,
   "metadata": {},
   "outputs": [
    {
     "data": {
      "text/plain": [
       "True"
      ]
     },
     "execution_count": 39,
     "metadata": {},
     "output_type": "execute_result"
    }
   ],
   "source": [
    "gm.converged_"
   ]
  },
  {
   "cell_type": "code",
   "execution_count": 40,
   "metadata": {},
   "outputs": [
    {
     "data": {
      "text/plain": [
       "4"
      ]
     },
     "execution_count": 40,
     "metadata": {},
     "output_type": "execute_result"
    }
   ],
   "source": [
    "gm.n_iter_"
   ]
  },
  {
   "cell_type": "markdown",
   "metadata": {},
   "source": [
    "Okay, now that you have an estimate of the location, size, shape, orientation and relative\n",
    "weight of each cluster, the model can easily assign each instance to the most likely\n",
    "cluster (hard clustering) or estimate the probability that it belongs to a particular\n",
    "cluster (soft clustering). For this, just use the predict() method for hard clustering,\n",
    "or the predict_proba() method for soft clustering:"
   ]
  },
  {
   "cell_type": "code",
   "execution_count": 41,
   "metadata": {},
   "outputs": [
    {
     "data": {
      "text/plain": [
       "array([0, 0, 2, ..., 1, 1, 1])"
      ]
     },
     "execution_count": 41,
     "metadata": {},
     "output_type": "execute_result"
    }
   ],
   "source": [
    "gm.predict(X)"
   ]
  },
  {
   "cell_type": "code",
   "execution_count": 42,
   "metadata": {},
   "outputs": [
    {
     "data": {
      "text/plain": [
       "array([[9.77227791e-01, 2.27715290e-02, 6.79898914e-07],\n",
       "       [9.83288385e-01, 1.60345103e-02, 6.77104389e-04],\n",
       "       [7.51824662e-05, 1.90251273e-06, 9.99922915e-01],\n",
       "       ...,\n",
       "       [4.35053542e-07, 9.99999565e-01, 2.17938894e-26],\n",
       "       [5.27837047e-16, 1.00000000e+00, 1.50679490e-41],\n",
       "       [2.32355608e-15, 1.00000000e+00, 8.21915701e-41]])"
      ]
     },
     "execution_count": 42,
     "metadata": {},
     "output_type": "execute_result"
    }
   ],
   "source": [
    "gm.predict_proba(X)"
   ]
  },
  {
   "cell_type": "markdown",
   "metadata": {},
   "source": [
    "It is a generative model, meaning you can actually sample new instances from it (note\n",
    "that they are ordered by cluster index):"
   ]
  },
  {
   "cell_type": "code",
   "execution_count": 43,
   "metadata": {},
   "outputs": [],
   "source": [
    "X_new, y_new = gm.sample(6)"
   ]
  },
  {
   "cell_type": "code",
   "execution_count": 44,
   "metadata": {},
   "outputs": [
    {
     "data": {
      "text/plain": [
       "array([[-0.8690223 , -0.32680051],\n",
       "       [ 0.29945755,  0.2841852 ],\n",
       "       [ 1.85027284,  2.06556913],\n",
       "       [ 3.98260019,  1.50041446],\n",
       "       [ 3.82006355,  0.53143606],\n",
       "       [-1.04015332,  0.7864941 ]])"
      ]
     },
     "execution_count": 44,
     "metadata": {},
     "output_type": "execute_result"
    }
   ],
   "source": [
    "X_new"
   ]
  },
  {
   "cell_type": "code",
   "execution_count": 45,
   "metadata": {},
   "outputs": [
    {
     "data": {
      "text/plain": [
       "array([0, 0, 1, 1, 1, 2])"
      ]
     },
     "execution_count": 45,
     "metadata": {},
     "output_type": "execute_result"
    }
   ],
   "source": [
    "y_new\n"
   ]
  },
  {
   "cell_type": "markdown",
   "metadata": {},
   "source": [
    "It is also possible to estimate the density of the model at any given location. This is\n",
    "achieved using the score_samples() method: for each instance it is given, this\n",
    "method estimates the log of the probability density function (PDF) at that location.\n",
    "The greater the score, the higher the density:"
   ]
  },
  {
   "cell_type": "code",
   "execution_count": 46,
   "metadata": {},
   "outputs": [
    {
     "data": {
      "text/plain": [
       "array([-2.60674489, -3.57074133, -3.33007348, ..., -3.51379355,\n",
       "       -4.39643283, -3.8055665 ])"
      ]
     },
     "execution_count": 46,
     "metadata": {},
     "output_type": "execute_result"
    }
   ],
   "source": [
    "gm.score_samples(X)"
   ]
  },
  {
   "cell_type": "markdown",
   "metadata": {},
   "source": [
    "The figure below shows the cluster means, the decision boundaries (dashed lines), and the density contours of this model:\n",
    "\n",
    "![](density_contours_gaussian_mixture.png)\n",
    "\n",
    "Nice! The algorithm clearly found an excellent solution. Of course, we made its task\n",
    "easy by actually generating the data using a set of 2D Gaussian distributions (unfortunately,\n",
    "real life data is not always so Gaussian and low-dimensional), and we also gave\n",
    "the algorithm the correct number of clusters. When there are many dimensions, or\n",
    "many clusters, or few instances, EM can struggle to converge to the optimal solution.\n",
    "You might need to reduce the difficulty of the task by limiting the number of parameters\n",
    "that the algorithm has to learn: one way to do this is to limit the range of shapes\n",
    "and orientations that the clusters can have. This can be achieved by imposing constraints\n",
    "on the covariance matrices. To do this, just set the covariance_type hyperparameter\n",
    "to one of the following values:\n",
    "\n",
    "\n",
    "- \"spherical\": all clusters must be spherical, but they can have different diameters\n",
    "(i.e., different variances).\n",
    "\n",
    "- \"diag\": clusters can take on any ellipsoidal shape of any size, but the ellipsoid’s\n",
    "axes must be parallel to the coordinate axes (i.e., the covariance matrices must be\n",
    "diagonal).\n",
    "\n",
    "- \"tied\": all clusters must have the same ellipsoidal shape, size and orientation\n",
    "(i.e., all clusters share the same covariance matrix).\n",
    "\n",
    "By default, covariance_type is equal to \"full\", which means that each cluster can\n",
    "take on any shape, size and orientation (it has its own unconstrained covariance\n",
    "matrix). The below figure plots the solutions found by the EM algorithm when cova\n",
    "riance_type is set to \"tied\" or \"spherical“.\n",
    "\n",
    "![](covariance_type_diagram.png)"
   ]
  },
  {
   "cell_type": "markdown",
   "metadata": {},
   "source": [
    "## Anomaly Detection using Gaussian Mixtures\n",
    "\n",
    "Anomaly detection (also called outlier detection) is the task of detecting instances that\n",
    "deviate strongly from the norm. These instances are of course called anomalies or\n",
    "outliers, while the normal instances are called inliers. Anomaly detection is very useful\n",
    "in a wide variety of applications, for example in fraud detection, or for detecting\n",
    "defective products in manufacturing, or to remove outliers from a dataset before\n",
    "training another model, which can significantly improve the performance of the\n",
    "resulting model.\n",
    "Using a Gaussian mixture model for anomaly detection is quite simple: any instance\n",
    "located in a low-density region can be considered an anomaly. You must define what\n",
    "density threshold you want to use. For example, in a manufacturing company that\n",
    "tries to detect defective products, the ratio of defective products is usually wellknown.\n",
    "Say it is equal to 4%, then you can set the density threshold to be the value\n",
    "that results in having 4% of the instances located in areas below that threshold density.\n",
    "If you notice that you get too many false positives (i.e., perfectly good products\n",
    "that are flagged as defective), you can lower the threshold. Conversely, if you have too\n",
    "many false negatives (i.e., defective products that the system does not flag as defective),\n",
    "you can increase the threshold. This is the usual precision/recall tradeoff. Here is how you would identify the outliers using the 4th percentile lowest density as the threshold (that is, approximately $4$% of the instances will be flagged as anomalies):"
   ]
  },
  {
   "cell_type": "code",
   "execution_count": 47,
   "metadata": {},
   "outputs": [],
   "source": [
    "densities = gm.score_samples(X)"
   ]
  },
  {
   "cell_type": "code",
   "execution_count": 49,
   "metadata": {},
   "outputs": [],
   "source": [
    "density_threshold = np.percentile(densities,4)\n",
    "anomalies = X[densities < density_threshold]"
   ]
  },
  {
   "cell_type": "markdown",
   "metadata": {},
   "source": [
    "These anamolies are represented as stars on the below figure.\n",
    "\n",
    "![](anomaly_detection_gaussian_mixture_model.png)"
   ]
  },
  {
   "cell_type": "markdown",
   "metadata": {},
   "source": [
    "A closely related task is novelty detection: it differs from anomaly detection in that the\n",
    "algorithm is assumed to be trained on a “clean” dataset, uncontaminated by outliers,\n",
    "whereas anomaly detection does not make this assumption. Indeed, outlier detection\n",
    "is often precisely used to clean up a dataset.\n",
    "\n",
    "Gaussian mixture models try to fit all the data, including the outliers,\n",
    "so if you have too many of them, this will bias the model’s view\n",
    "of “normality”: some outliers may wrongly be considered as normal.\n",
    "If this happens, you can try to fit the model once, use it to\n",
    "detect and remove the most extreme outliers, then fit the model\n",
    "again on the cleaned up dataset. Another approach is to use robust\n",
    "covariance estimation methods (see the EllipticEnvelope class).\n",
    "\n",
    "Just like K-Means, the GaussianMixture algorithm requires you to specify the number\n",
    "of clusters. So how can you find it?"
   ]
  },
  {
   "cell_type": "markdown",
   "metadata": {},
   "source": [
    "## Selecting the Number of Clusters\n",
    "\n",
    "\n",
    "With K-Means, you could use the inertia or the silhouette score to select the appropriate\n",
    "number of clusters, but with Gaussian mixtures, it is not possible to use these\n",
    "metrics because they are not reliable when the clusters are not spherical or have different\n",
    "sizes. Instead, you can try to find the model that minimizes a theoretical information criterion such as the Bayesian information criterion (BIC) or the Akaike\n",
    "information criterion (AIC). (details omitted)\n",
    "\n",
    "Both the BIC and the AIC penalize models that have more parameters to learn (e.g.,\n",
    "more clusters), and reward models that fit the data well. They often end up selecting\n",
    "the same model, but when they differ, the model selected by the BIC tends to be simpler\n",
    "(fewer parameters) than the one selected by the AIC, but it does not fit the data\n",
    "quite as well (this is especially true for larger datasets).\n",
    "\n",
    "To compute the BIC and AIC, just call the bic() or aic() methods:"
   ]
  },
  {
   "cell_type": "code",
   "execution_count": 50,
   "metadata": {},
   "outputs": [
    {
     "data": {
      "text/plain": [
       "8189.662685850679"
      ]
     },
     "execution_count": 50,
     "metadata": {},
     "output_type": "execute_result"
    }
   ],
   "source": [
    "gm.bic(X)"
   ]
  },
  {
   "cell_type": "code",
   "execution_count": 51,
   "metadata": {},
   "outputs": [
    {
     "data": {
      "text/plain": [
       "8102.437405735641"
      ]
     },
     "execution_count": 51,
     "metadata": {},
     "output_type": "execute_result"
    }
   ],
   "source": [
    "gm.aic(X)"
   ]
  },
  {
   "cell_type": "markdown",
   "metadata": {},
   "source": [
    "The below figure shows the BIC for different numbers of clusters k. As you can see, both\n",
    "the BIC and the AIC are lowest when k=3, so it is most likely the best choice. Note\n",
    "that we could also search for the best value for the covariance_type hyperparameter.\n",
    "For example, if it is \"spherical\" rather than \"full\", then the model has much fewer\n",
    "parameters to learn, but it does not fit the data as well.\n",
    "\n",
    "![](aic_bic_different_numbers_clusters_k.png)"
   ]
  },
  {
   "cell_type": "code",
   "execution_count": null,
   "metadata": {},
   "outputs": [],
   "source": []
  }
 ],
 "metadata": {
  "kernelspec": {
   "display_name": "Python 3",
   "language": "python",
   "name": "python3"
  },
  "language_info": {
   "codemirror_mode": {
    "name": "ipython",
    "version": 3
   },
   "file_extension": ".py",
   "mimetype": "text/x-python",
   "name": "python",
   "nbconvert_exporter": "python",
   "pygments_lexer": "ipython3",
   "version": "3.8.3"
  }
 },
 "nbformat": 4,
 "nbformat_minor": 4
}
